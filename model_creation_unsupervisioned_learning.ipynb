{
 "cells": [
  {
   "cell_type": "markdown",
   "metadata": {},
   "source": [
    "# Hackaton - Equipe 5\n",
    "\n",
    "Notebook criado para explorar os dados para desenvolver a tecnologia de agrupamento utilizando a abordagem de aprendizagem não supervisionada."
   ]
  },
  {
   "cell_type": "code",
   "execution_count": 1,
   "metadata": {},
   "outputs": [],
   "source": [
    "#carregando os pacotes\n",
    "import pandas as pd\n",
    "import seaborn as sns\n",
    "import matplotlib.pyplot as plt\n",
    "from geopy.geocoders import Nominatim\n",
    "import folium\n",
    "%matplotlib inline"
   ]
  },
  {
   "cell_type": "code",
   "execution_count": 89,
   "metadata": {},
   "outputs": [],
   "source": [
    "#lendo os dados\n",
    "df = pd.read_csv('C:/Users/Samsung/Documents/hackaton/hack_data.csv')"
   ]
  },
  {
   "cell_type": "code",
   "execution_count": 90,
   "metadata": {
    "collapsed": true
   },
   "outputs": [
    {
     "data": {
      "text/plain": [
       "Timestamp                   object\n",
       "nome                        object\n",
       "endereco                    object\n",
       "networking                   int64\n",
       "abacate                      int64\n",
       "musica                      object\n",
       "assuntos                    object\n",
       "Eletronica                   int64\n",
       "Indie                        int64\n",
       "Mpb                          int64\n",
       "Rock                         int64\n",
       "Vaporwave                    int64\n",
       "Indie rock                   int64\n",
       "Forro                        int64\n",
       "Jazz                         int64\n",
       "Maracatu                     int64\n",
       "Funk                         int64\n",
       "Pagode                       int64\n",
       "Rap nacional                 int64\n",
       "Samba                        int64\n",
       "Blues                        int64\n",
       "Country                      int64\n",
       "Dance                        int64\n",
       "Disco                        int64\n",
       "Hardcore                     int64\n",
       "Hip hop                      int64\n",
       "Metal                        int64\n",
       "Nightcore                    int64\n",
       "Pop rock                     int64\n",
       "Punk                         int64\n",
       "Reggae                       int64\n",
       "Sertanejo                    int64\n",
       "Sertanejo universitario      int64\n",
       "Forro.1                      int64\n",
       "Rnb                          int64\n",
       "K-pop                        int64\n",
       "Arte                         int64\n",
       "Ciencia                      int64\n",
       "Economia                     int64\n",
       "Filmes e Series              int64\n",
       "Historia                     int64\n",
       "Noticias                     int64\n",
       "Politica                     int64\n",
       "Tecnologia                   int64\n",
       "Animais                      int64\n",
       "Esportes                     int64\n",
       "Gastronomia                  int64\n",
       "Sustentabilidade             int64\n",
       "Trabalho                     int64\n",
       "Natureza                     int64\n",
       "Fofocas                      int64\n",
       "Moda                         int64\n",
       "Famosos                      int64\n",
       "Lat                        float64\n",
       "Lng                        float64\n",
       "endereco.1                  object\n",
       "dtype: object"
      ]
     },
     "execution_count": 90,
     "metadata": {},
     "output_type": "execute_result"
    }
   ],
   "source": [
    "#plotar datatipe\n",
    "df.dtypes"
   ]
  },
  {
   "cell_type": "code",
   "execution_count": 111,
   "metadata": {},
   "outputs": [
    {
     "data": {
      "text/plain": [
       "Index(['Timestamp', 'nome', 'endereco', 'networking', 'abacate', 'musica',\n",
       "       'assuntos', 'Eletronica', 'Indie', 'Mpb', 'Rock', 'Vaporwave',\n",
       "       'Indie rock', 'Forro', 'Jazz', 'Maracatu', 'Funk', 'Pagode',\n",
       "       'Rap nacional', 'Samba', 'Blues', 'Country', 'Dance', 'Disco',\n",
       "       'Hardcore', 'Hip hop', 'Metal', 'Nightcore', 'Pop rock', 'Punk',\n",
       "       'Reggae', 'Sertanejo', 'Sertanejo universitario', 'Forro.1', 'Rnb',\n",
       "       'K-pop', 'Arte', 'Ciencia', 'Economia', 'Filmes e Series', 'Historia',\n",
       "       'Noticias', 'Politica', 'Tecnologia', 'Animais', 'Esportes',\n",
       "       'Gastronomia', 'Sustentabilidade', 'Trabalho', 'Natureza', 'Fofocas',\n",
       "       'Moda', 'Famosos', 'Lat', 'Lng', 'endereco.1'],\n",
       "      dtype='object')"
      ]
     },
     "execution_count": 111,
     "metadata": {},
     "output_type": "execute_result"
    }
   ],
   "source": [
    "#plotar colunas\n",
    "df.columns"
   ]
  },
  {
   "cell_type": "code",
   "execution_count": 118,
   "metadata": {},
   "outputs": [],
   "source": [
    "#Criando o modelo de aprendizagem não supervisionada\n",
    "from sklearn.cluster import KMeans"
   ]
  },
  {
   "cell_type": "code",
   "execution_count": 119,
   "metadata": {},
   "outputs": [],
   "source": [
    "#Algoritmo K-means com k= 8\n",
    "km = KMeans()"
   ]
  },
  {
   "cell_type": "code",
   "execution_count": 120,
   "metadata": {},
   "outputs": [
    {
     "data": {
      "text/plain": [
       "KMeans(algorithm='auto', copy_x=True, init='k-means++', max_iter=300,\n",
       "    n_clusters=8, n_init=10, n_jobs=None, precompute_distances='auto',\n",
       "    random_state=None, tol=0.0001, verbose=0)"
      ]
     },
     "execution_count": 120,
     "metadata": {},
     "output_type": "execute_result"
    }
   ],
   "source": [
    "x = df[['Lat','Lng']]\n",
    "km.fit(x, 8)"
   ]
  },
  {
   "cell_type": "code",
   "execution_count": 121,
   "metadata": {},
   "outputs": [
    {
     "name": "stderr",
     "output_type": "stream",
     "text": [
      "C:\\Users\\Samsung\\Anaconda3\\lib\\site-packages\\ipykernel_launcher.py:2: SettingWithCopyWarning: \n",
      "A value is trying to be set on a copy of a slice from a DataFrame.\n",
      "Try using .loc[row_indexer,col_indexer] = value instead\n",
      "\n",
      "See the caveats in the documentation: http://pandas.pydata.org/pandas-docs/stable/indexing.html#indexing-view-versus-copy\n",
      "  \n"
     ]
    }
   ],
   "source": [
    "df['cluster'] = km.predict(x)\n",
    "x['cluster'] = km.predict(x)"
   ]
  },
  {
   "cell_type": "code",
   "execution_count": 122,
   "metadata": {},
   "outputs": [
    {
     "data": {
      "text/html": [
       "<div>\n",
       "<style scoped>\n",
       "    .dataframe tbody tr th:only-of-type {\n",
       "        vertical-align: middle;\n",
       "    }\n",
       "\n",
       "    .dataframe tbody tr th {\n",
       "        vertical-align: top;\n",
       "    }\n",
       "\n",
       "    .dataframe thead th {\n",
       "        text-align: right;\n",
       "    }\n",
       "</style>\n",
       "<table border=\"1\" class=\"dataframe\">\n",
       "  <thead>\n",
       "    <tr style=\"text-align: right;\">\n",
       "      <th></th>\n",
       "      <th>Lat</th>\n",
       "      <th>Lng</th>\n",
       "      <th>cluster</th>\n",
       "    </tr>\n",
       "  </thead>\n",
       "  <tbody>\n",
       "    <tr>\n",
       "      <th>0</th>\n",
       "      <td>-19.933164</td>\n",
       "      <td>-43.969129</td>\n",
       "      <td>0</td>\n",
       "    </tr>\n",
       "    <tr>\n",
       "      <th>1</th>\n",
       "      <td>-19.862421</td>\n",
       "      <td>-43.998188</td>\n",
       "      <td>2</td>\n",
       "    </tr>\n",
       "    <tr>\n",
       "      <th>2</th>\n",
       "      <td>-19.975593</td>\n",
       "      <td>-43.968260</td>\n",
       "      <td>0</td>\n",
       "    </tr>\n",
       "    <tr>\n",
       "      <th>3</th>\n",
       "      <td>-19.929345</td>\n",
       "      <td>-43.943810</td>\n",
       "      <td>3</td>\n",
       "    </tr>\n",
       "    <tr>\n",
       "      <th>4</th>\n",
       "      <td>-19.888585</td>\n",
       "      <td>-43.947986</td>\n",
       "      <td>6</td>\n",
       "    </tr>\n",
       "  </tbody>\n",
       "</table>\n",
       "</div>"
      ],
      "text/plain": [
       "         Lat        Lng  cluster\n",
       "0 -19.933164 -43.969129        0\n",
       "1 -19.862421 -43.998188        2\n",
       "2 -19.975593 -43.968260        0\n",
       "3 -19.929345 -43.943810        3\n",
       "4 -19.888585 -43.947986        6"
      ]
     },
     "execution_count": 122,
     "metadata": {},
     "output_type": "execute_result"
    }
   ],
   "source": [
    "x.head(5)"
   ]
  },
  {
   "cell_type": "code",
   "execution_count": 123,
   "metadata": {},
   "outputs": [
    {
     "data": {
      "image/png": "[encoded data removed]",
      "text/plain": [
       "<Figure size 402.375x360 with 1 Axes>"
      ]
     },
     "metadata": {
      "needs_background": "light"
     },
     "output_type": "display_data"
    }
   ],
   "source": [
    "ax = sns.lmplot(x = 'Lat', y = 'Lng', hue = 'cluster', data = x, fit_reg= False)\n",
    "#Grafico que "
   ]
  },
  {
   "cell_type": "code",
   "execution_count": 125,
   "metadata": {},
   "outputs": [
    {
     "data": {
      "text/plain": [
       "KMeans(algorithm='auto', copy_x=True, init='k-means++', max_iter=300,\n",
       "    n_clusters=8, n_init=10, n_jobs=None, precompute_distances='auto',\n",
       "    random_state=None, tol=0.0001, verbose=0)"
      ]
     },
     "execution_count": 125,
     "metadata": {},
     "output_type": "execute_result"
    }
   ],
   "source": [
    "#Criando o cluster com variavel : Preferencia por abacate ou batata frita\n",
    "x = df[['Lat', 'Lng', 'abacate']]\n",
    "km.fit(x, 8)"
   ]
  },
  {
   "cell_type": "code",
   "execution_count": 126,
   "metadata": {},
   "outputs": [
    {
     "name": "stderr",
     "output_type": "stream",
     "text": [
      "C:\\Users\\Samsung\\Anaconda3\\lib\\site-packages\\ipykernel_launcher.py:3: SettingWithCopyWarning: \n",
      "A value is trying to be set on a copy of a slice from a DataFrame.\n",
      "Try using .loc[row_indexer,col_indexer] = value instead\n",
      "\n",
      "See the caveats in the documentation: http://pandas.pydata.org/pandas-docs/stable/indexing.html#indexing-view-versus-copy\n",
      "  This is separate from the ipykernel package so we can avoid doing imports until\n"
     ]
    }
   ],
   "source": [
    "#Criando o cluster com variavel : Preferencia por abacate ou batata frita\n",
    "df['cluster_abacate'] = km.predict(x)\n",
    "x['cluster_abacate'] = km.predict(x)"
   ]
  },
  {
   "cell_type": "code",
   "execution_count": 127,
   "metadata": {},
   "outputs": [
    {
     "data": {
      "text/plain": [
       "<seaborn.axisgrid.FacetGrid at 0x21ee013a978>"
      ]
     },
     "execution_count": 127,
     "metadata": {},
     "output_type": "execute_result"
    },
    {
     "data": {
      "image/png": "[encoded data removed]",
      "text/plain": [
       "<Figure size 447.25x360 with 1 Axes>"
      ]
     },
     "metadata": {
      "needs_background": "light"
     },
     "output_type": "display_data"
    }
   ],
   "source": [
    "#Criando o cluster com variavel : Preferencia por abacate ou batata frita\n",
    "sns.lmplot(x = 'Lat', y = 'Lng', hue = 'cluster_abacate', data = x, fit_reg= False)"
   ]
  },
  {
   "cell_type": "code",
   "execution_count": 130,
   "metadata": {},
   "outputs": [
    {
     "data": {
      "text/plain": [
       "KMeans(algorithm='auto', copy_x=True, init='k-means++', max_iter=300,\n",
       "    n_clusters=8, n_init=10, n_jobs=None, precompute_distances='auto',\n",
       "    random_state=None, tol=0.0001, verbose=0)"
      ]
     },
     "execution_count": 130,
     "metadata": {},
     "output_type": "execute_result"
    }
   ],
   "source": [
    "#Criando o cluster com variavel : Preferencia por Brindes ou Networking\n",
    "x = df[['Lat', 'Lng', 'networking']]\n",
    "km.fit(x,8)"
   ]
  },
  {
   "cell_type": "code",
   "execution_count": 131,
   "metadata": {},
   "outputs": [
    {
     "name": "stderr",
     "output_type": "stream",
     "text": [
      "C:\\Users\\Samsung\\Anaconda3\\lib\\site-packages\\ipykernel_launcher.py:2: SettingWithCopyWarning: \n",
      "A value is trying to be set on a copy of a slice from a DataFrame.\n",
      "Try using .loc[row_indexer,col_indexer] = value instead\n",
      "\n",
      "See the caveats in the documentation: http://pandas.pydata.org/pandas-docs/stable/indexing.html#indexing-view-versus-copy\n",
      "  \n"
     ]
    }
   ],
   "source": [
    "df['cluster_networking'] = km.predict(x)\n",
    "x['cluster_networking'] = km.predict(x)"
   ]
  },
  {
   "cell_type": "code",
   "execution_count": 132,
   "metadata": {},
   "outputs": [
    {
     "data": {
      "text/plain": [
       "<seaborn.axisgrid.FacetGrid at 0x21edeb1b4a8>"
      ]
     },
     "execution_count": 132,
     "metadata": {},
     "output_type": "execute_result"
    },
    {
     "data": {
      "image/png": "[encoded data removed]",
      "text/plain": [
       "<Figure size 463.125x360 with 1 Axes>"
      ]
     },
     "metadata": {
      "needs_background": "light"
     },
     "output_type": "display_data"
    }
   ],
   "source": [
    "#Criando o cluster com variavel : Preferencia por Brindes ou Networking\n",
    "sns.lmplot(x = 'Lat', y = 'Lng', hue = 'cluster_networking', data = x, fit_reg= False)"
   ]
  },
  {
   "cell_type": "code",
   "execution_count": 142,
   "metadata": {},
   "outputs": [
    {
     "data": {
      "text/plain": [
       "KMeans(algorithm='auto', copy_x=True, init='k-means++', max_iter=300,\n",
       "    n_clusters=8, n_init=10, n_jobs=None, precompute_distances='auto',\n",
       "    random_state=None, tol=0.0001, verbose=0)"
      ]
     },
     "execution_count": 142,
     "metadata": {},
     "output_type": "execute_result"
    }
   ],
   "source": [
    "#criando cluster por preferencia musical\n",
    "x = df[['Eletronica', 'Indie', 'Mpb', 'Rock', 'Vaporwave',\n",
    "       'Indie rock', 'Forro', 'Jazz', 'Maracatu', 'Funk', 'Pagode',\n",
    "       'Rap nacional', 'Samba', 'Blues', 'Country', 'Dance', 'Disco',\n",
    "       'Hardcore', 'Hip hop', 'Metal', 'Nightcore', 'Pop rock', 'Punk',\n",
    "       'Reggae', 'Sertanejo', 'Sertanejo universitario', 'Forro.1', 'Rnb',\n",
    "       'K-pop', 'Lat', 'Lng']]\n",
    "km.fit(x)"
   ]
  },
  {
   "cell_type": "code",
   "execution_count": 143,
   "metadata": {},
   "outputs": [
    {
     "data": {
      "text/plain": [
       "KMeans(algorithm='auto', copy_x=True, init='k-means++', max_iter=300,\n",
       "    n_clusters=8, n_init=10, n_jobs=None, precompute_distances='auto',\n",
       "    random_state=None, tol=0.0001, verbose=0)"
      ]
     },
     "execution_count": 143,
     "metadata": {},
     "output_type": "execute_result"
    }
   ],
   "source": [
    "#Criando o cluster com variavel : Preferencia Musical\n",
    "km.fit(x, 8)"
   ]
  },
  {
   "cell_type": "code",
   "execution_count": 144,
   "metadata": {},
   "outputs": [
    {
     "name": "stderr",
     "output_type": "stream",
     "text": [
      "C:\\Users\\Samsung\\Anaconda3\\lib\\site-packages\\ipykernel_launcher.py:2: SettingWithCopyWarning: \n",
      "A value is trying to be set on a copy of a slice from a DataFrame.\n",
      "Try using .loc[row_indexer,col_indexer] = value instead\n",
      "\n",
      "See the caveats in the documentation: http://pandas.pydata.org/pandas-docs/stable/indexing.html#indexing-view-versus-copy\n",
      "  \n"
     ]
    }
   ],
   "source": [
    "df['cluster_musica'] = km.predict(x)\n",
    "x['cluster_musica'] = km.predict(x)"
   ]
  },
  {
   "cell_type": "code",
   "execution_count": 145,
   "metadata": {},
   "outputs": [
    {
     "data": {
      "text/plain": [
       "<seaborn.axisgrid.FacetGrid at 0x21ee11c9240>"
      ]
     },
     "execution_count": 145,
     "metadata": {},
     "output_type": "execute_result"
    },
    {
     "data": {
      "image/png": "[encoded data removed]",
      "text/plain": [
       "<Figure size 442.875x360 with 1 Axes>"
      ]
     },
     "metadata": {
      "needs_background": "light"
     },
     "output_type": "display_data"
    }
   ],
   "source": [
    "#Criando o cluster com variavel : Preferencia Musical\n",
    "sns.lmplot(x = 'Lat', y = 'Lng', hue = 'cluster_musica', data = x, fit_reg= False)"
   ]
  },
  {
   "cell_type": "code",
   "execution_count": 151,
   "metadata": {},
   "outputs": [
    {
     "name": "stderr",
     "output_type": "stream",
     "text": [
      "C:\\Users\\Samsung\\Anaconda3\\lib\\site-packages\\ipykernel_launcher.py:9: SettingWithCopyWarning: \n",
      "A value is trying to be set on a copy of a slice from a DataFrame.\n",
      "Try using .loc[row_indexer,col_indexer] = value instead\n",
      "\n",
      "See the caveats in the documentation: http://pandas.pydata.org/pandas-docs/stable/indexing.html#indexing-view-versus-copy\n",
      "  if __name__ == '__main__':\n"
     ]
    }
   ],
   "source": [
    "#criando cluster por preferencia musical\n",
    "x = df[['Arte', 'Ciencia', 'Economia', 'Filmes e Series', 'Historia',\n",
    "       'Noticias', 'Politica', 'Tecnologia', 'Animais', 'Esportes',\n",
    "       'Gastronomia', 'Sustentabilidade', 'Trabalho', 'Natureza', 'Fofocas',\n",
    "       'Moda', 'Famosos', 'Lat', 'Lng']]\n",
    "\n",
    "km.fit(x, 8)\n",
    "df['cluster_assuntos'] = km.predict(x)\n",
    "x['cluster_assuntos'] = km.predict(x)\n"
   ]
  },
  {
   "cell_type": "code",
   "execution_count": 152,
   "metadata": {},
   "outputs": [
    {
     "data": {
      "text/plain": [
       "<seaborn.axisgrid.FacetGrid at 0x21ee12d2dd8>"
      ]
     },
     "execution_count": 152,
     "metadata": {},
     "output_type": "execute_result"
    },
    {
     "data": {
      "image/png": "[encoded data removed]",
      "text/plain": [
       "<Figure size 451.625x360 with 1 Axes>"
      ]
     },
     "metadata": {
      "needs_background": "light"
     },
     "output_type": "display_data"
    }
   ],
   "source": [
    "sns.lmplot(x = 'Lat', y = 'Lng', hue = 'cluster_assuntos', data = x, fit_reg= False)"
   ]
  },
  {
   "cell_type": "code",
   "execution_count": 159,
   "metadata": {},
   "outputs": [],
   "source": [
    "#Criando cluster com todas variaveis\n",
    "x = df.drop(columns = ['Timestamp', 'nome', 'endereco','musica', 'assuntos', 'endereco.1'])"
   ]
  },
  {
   "cell_type": "code",
   "execution_count": 160,
   "metadata": {},
   "outputs": [],
   "source": [
    "km.fit(x, 8)\n",
    "df['cluster_geral'] = km.predict(x)\n",
    "x['cluster_geral'] = km.predict(x)"
   ]
  },
  {
   "cell_type": "code",
   "execution_count": 162,
   "metadata": {},
   "outputs": [
    {
     "data": {
      "text/plain": [
       "<seaborn.axisgrid.FacetGrid at 0x21ee18dcfd0>"
      ]
     },
     "execution_count": 162,
     "metadata": {},
     "output_type": "execute_result"
    },
    {
     "data": {
      "image/png": "[encoded data removed]",
      "text/plain": [
       "<Figure size 432.75x360 with 1 Axes>"
      ]
     },
     "metadata": {
      "needs_background": "light"
     },
     "output_type": "display_data"
    }
   ],
   "source": [
    "sns.lmplot(x = 'Lat', y = 'Lng', hue = 'cluster_geral', data = x, fit_reg= False)"
   ]
  },
  {
   "cell_type": "code",
   "execution_count": 166,
   "metadata": {},
   "outputs": [],
   "source": [
    "df.to_csv('hack_data_tratado.csv')"
   ]
  },
  {
   "cell_type": "code",
   "execution_count": null,
   "metadata": {},
   "outputs": [],
   "source": []
  }
 ],
 "metadata": {
  "kernelspec": {
   "display_name": "Python 3",
   "language": "python",
   "name": "python3"
  },
  "language_info": {
   "codemirror_mode": {
    "name": "ipython",
    "version": 3
   },
   "file_extension": ".py",
   "mimetype": "text/x-python",
   "name": "python",
   "nbconvert_exporter": "python",
   "pygments_lexer": "ipython3",
   "version": "3.7.3"
  }
 },
 "nbformat": 4,
 "nbformat_minor": 2
}
